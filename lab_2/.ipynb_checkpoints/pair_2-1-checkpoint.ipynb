{
 "cells": [
  {
   "cell_type": "markdown",
   "id": "654cdbba-0b0a-4564-9fd7-1ca776d5c146",
   "metadata": {},
   "source": [
    "# Pair Problem\n",
    "\n",
    "Choose to work on one of the following. If you complete one while still in class, start working on the other! The most complete one will be graded."
   ]
  },
  {
   "cell_type": "markdown",
   "id": "aab60edf-a2ee-46f3-bcd4-72759182e9ed",
   "metadata": {},
   "source": [
    "## Option 1\n",
    "\n",
    "In programming languages, and especially in [LISP](https://en.wikipedia.org/wiki/Lisp_(programming_language)), there can be a lot of parentheses. The parentheses have to be \"balanced\" to be valid. For example, `()(())` is balanced, but `()())` is not balanced. Also, `)((())` is not balanced. (Think mathematics.)\n",
    "\n",
    "Write a function that takes a string and returns `True` if the string's parentheses are balanced, `False` if they are not.\n",
    "\n",
    "**Once you are finished, see if you can come up with a second way to solve the problem.**\n",
    "\n",
    "Here are examples to test your function with:\n",
    "\n",
    " * `(()()()())` should return `True`\n",
    " * `(((())))` should return `True`\n",
    " * `(()((())()))` should return `True`\n",
    " * `((((((())` should return `False`\n",
    " * `()))` should return `False`\n",
    " * `(()()))(()` should return `False`\n",
    " * `)()` and `()(` should both obviously return `False`"
   ]
  },
  {
   "cell_type": "code",
   "execution_count": 41,
   "id": "b43cae0d-837e-405b-9e7f-94ef00cf9e1c",
   "metadata": {},
   "outputs": [],
   "source": [
    "from collections import deque"
   ]
  },
  {
   "cell_type": "code",
   "execution_count": 57,
   "id": "6e0efafd-0a8e-4597-88ef-fa9803272021",
   "metadata": {},
   "outputs": [],
   "source": [
    "def syntaxChecker(inp):\n",
    "    stack = deque()\n",
    "    \n",
    "    for i in inp:\n",
    "        if i == \"(\":\n",
    "            stack.append('(')\n",
    "        elif i == \")\" and len(stack) != 0:\n",
    "            temp = stack.pop()\n",
    "            if temp != '(':\n",
    "                return False\n",
    "        elif len(stack) == 0:\n",
    "            return False\n",
    "    if len(stack) != 0:\n",
    "        return False\n",
    "    return True"
   ]
  },
  {
   "cell_type": "code",
   "execution_count": 58,
   "id": "bda238ba-d1c7-46dc-b5ce-35f3c59425a7",
   "metadata": {},
   "outputs": [
    {
     "data": {
      "text/plain": [
       "True"
      ]
     },
     "execution_count": 58,
     "metadata": {},
     "output_type": "execute_result"
    }
   ],
   "source": [
    "syntaxChecker(\"(()()()())\")"
   ]
  },
  {
   "cell_type": "code",
   "execution_count": 59,
   "id": "d4db9fe8-5f14-4c3d-b2e7-2bfc9e7bb9e7",
   "metadata": {},
   "outputs": [
    {
     "data": {
      "text/plain": [
       "True"
      ]
     },
     "execution_count": 59,
     "metadata": {},
     "output_type": "execute_result"
    }
   ],
   "source": [
    "syntaxChecker(\"(((())))\")"
   ]
  },
  {
   "cell_type": "code",
   "execution_count": 60,
   "id": "8de09609-b865-4c9a-a09c-a667ef5f9483",
   "metadata": {},
   "outputs": [
    {
     "data": {
      "text/plain": [
       "True"
      ]
     },
     "execution_count": 60,
     "metadata": {},
     "output_type": "execute_result"
    }
   ],
   "source": [
    "syntaxChecker(\"(()((())()))\")"
   ]
  },
  {
   "cell_type": "code",
   "execution_count": 61,
   "id": "be0bd2b8-bc70-4da4-a199-24f83d87ab0a",
   "metadata": {},
   "outputs": [
    {
     "data": {
      "text/plain": [
       "False"
      ]
     },
     "execution_count": 61,
     "metadata": {},
     "output_type": "execute_result"
    }
   ],
   "source": [
    "syntaxChecker(\"((((((())\")"
   ]
  },
  {
   "cell_type": "code",
   "execution_count": 62,
   "id": "31b50ac6-cba6-4ac9-980f-d80ad2298188",
   "metadata": {},
   "outputs": [
    {
     "data": {
      "text/plain": [
       "False"
      ]
     },
     "execution_count": 62,
     "metadata": {},
     "output_type": "execute_result"
    }
   ],
   "source": [
    "syntaxChecker(\"()))\")"
   ]
  },
  {
   "cell_type": "code",
   "execution_count": 63,
   "id": "442eb936-6f7f-429f-9750-4b1c79b79099",
   "metadata": {},
   "outputs": [
    {
     "data": {
      "text/plain": [
       "False"
      ]
     },
     "execution_count": 63,
     "metadata": {},
     "output_type": "execute_result"
    }
   ],
   "source": [
    "syntaxChecker(\"(()()))(()\")"
   ]
  },
  {
   "cell_type": "code",
   "execution_count": 64,
   "id": "69b81652-101b-4585-afbf-cd8e87f92d67",
   "metadata": {},
   "outputs": [
    {
     "data": {
      "text/plain": [
       "False"
      ]
     },
     "execution_count": 64,
     "metadata": {},
     "output_type": "execute_result"
    }
   ],
   "source": [
    "syntaxChecker(\")()\")"
   ]
  },
  {
   "cell_type": "code",
   "execution_count": 65,
   "id": "ecc3600e-eecd-4449-acf4-fa55fafec310",
   "metadata": {},
   "outputs": [
    {
     "data": {
      "text/plain": [
       "False"
      ]
     },
     "execution_count": 65,
     "metadata": {},
     "output_type": "execute_result"
    }
   ],
   "source": [
    "syntaxChecker(\"()(\")"
   ]
  },
  {
   "cell_type": "markdown",
   "id": "802a58d9-5639-4d69-8255-d1d5adb48dfb",
   "metadata": {},
   "source": [
    "## Option 2\n",
    "\n",
    "Write a function that receives a string and returns `True` or `False` depending on whether the word is a palindrome.  A palindrome is a word, phrase, or sequence that reads the same backward as forward. Examples of palindromes are `racecar` and `Nurses Run`. This function should be case insensitive, and it should ignore spaces.\n",
    "\n",
    "- Take a look at the `.lower()` and `.replace(,)` methods on a string.\n",
    "- Think about how you can reverse a string\n",
    "\n",
    "#### Test Cases\n",
    "- racecar\n",
    "- Nurses Run\n",
    "- Anna\n",
    "- Hannah\n",
    "- Sit on a potato pan, Otis."
   ]
  },
  {
   "cell_type": "code",
   "execution_count": 21,
   "id": "b50a196b-208d-4bf4-a47b-3f9a8f5a08cf",
   "metadata": {},
   "outputs": [],
   "source": [
    "import string"
   ]
  },
  {
   "cell_type": "code",
   "execution_count": 28,
   "id": "7501c44a-79a9-45ae-82e4-38c00b444c64",
   "metadata": {},
   "outputs": [],
   "source": [
    "def palindrome(inp):\n",
    "    inp = inp.lower().replace(\" \", \"\")\n",
    "    for i in inp:\n",
    "        if i in string.punctuation:\n",
    "            inp = inp.replace(i, \"\")\n",
    "    return inp == inp[::-1]"
   ]
  },
  {
   "cell_type": "code",
   "execution_count": 35,
   "id": "00f6a574-c6f8-4b0f-bb53-0bec75b2b0fa",
   "metadata": {},
   "outputs": [
    {
     "data": {
      "text/plain": [
       "True"
      ]
     },
     "execution_count": 35,
     "metadata": {},
     "output_type": "execute_result"
    }
   ],
   "source": [
    "palindrome(\"racecar\")"
   ]
  },
  {
   "cell_type": "code",
   "execution_count": 36,
   "id": "600613b1-418c-430f-a1c5-306b5ed49e98",
   "metadata": {},
   "outputs": [
    {
     "data": {
      "text/plain": [
       "True"
      ]
     },
     "execution_count": 36,
     "metadata": {},
     "output_type": "execute_result"
    }
   ],
   "source": [
    "palindrome(\"Nurses Run\")"
   ]
  },
  {
   "cell_type": "code",
   "execution_count": 37,
   "id": "4c377d0d-e010-4397-aad9-12cad45f257f",
   "metadata": {},
   "outputs": [
    {
     "data": {
      "text/plain": [
       "True"
      ]
     },
     "execution_count": 37,
     "metadata": {},
     "output_type": "execute_result"
    }
   ],
   "source": [
    "palindrome(\"Anna\")"
   ]
  },
  {
   "cell_type": "code",
   "execution_count": 38,
   "id": "ee2ffdaa-c019-4609-a5b2-faf7bd6202d8",
   "metadata": {},
   "outputs": [
    {
     "data": {
      "text/plain": [
       "True"
      ]
     },
     "execution_count": 38,
     "metadata": {},
     "output_type": "execute_result"
    }
   ],
   "source": [
    "palindrome(\"Hannah\")"
   ]
  },
  {
   "cell_type": "code",
   "execution_count": 39,
   "id": "bb301621-9acf-41c8-b3b9-3ab805869f1d",
   "metadata": {},
   "outputs": [
    {
     "data": {
      "text/plain": [
       "True"
      ]
     },
     "execution_count": 39,
     "metadata": {},
     "output_type": "execute_result"
    }
   ],
   "source": [
    "palindrome(\"Sit on a potato pan, Otis.\")"
   ]
  },
  {
   "cell_type": "code",
   "execution_count": null,
   "id": "ab2aa80f-b1c9-43cd-884a-022642450a71",
   "metadata": {},
   "outputs": [],
   "source": []
  }
 ],
 "metadata": {
  "kernelspec": {
   "display_name": "I501",
   "language": "python",
   "name": "i501"
  },
  "language_info": {
   "codemirror_mode": {
    "name": "ipython",
    "version": 3
   },
   "file_extension": ".py",
   "mimetype": "text/x-python",
   "name": "python",
   "nbconvert_exporter": "python",
   "pygments_lexer": "ipython3",
   "version": "3.11.4"
  }
 },
 "nbformat": 4,
 "nbformat_minor": 5
}
