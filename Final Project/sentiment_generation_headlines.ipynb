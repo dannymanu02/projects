{
 "cells": [
  {
   "cell_type": "code",
   "execution_count": 1,
   "id": "423e6740-5cda-48da-a01e-d1feb37ca89a",
   "metadata": {},
   "outputs": [],
   "source": [
    "import pandas as pd\n",
    "from nltk.sentiment.vader import SentimentIntensityAnalyzer"
   ]
  },
  {
   "cell_type": "code",
   "execution_count": 2,
   "id": "87d7201e-a4ad-4cf5-9675-798eb5d72a73",
   "metadata": {},
   "outputs": [
    {
     "data": {
      "text/html": [
       "<div>\n",
       "<style scoped>\n",
       "    .dataframe tbody tr th:only-of-type {\n",
       "        vertical-align: middle;\n",
       "    }\n",
       "\n",
       "    .dataframe tbody tr th {\n",
       "        vertical-align: top;\n",
       "    }\n",
       "\n",
       "    .dataframe thead th {\n",
       "        text-align: right;\n",
       "    }\n",
       "</style>\n",
       "<table border=\"1\" class=\"dataframe\">\n",
       "  <thead>\n",
       "    <tr style=\"text-align: right;\">\n",
       "      <th></th>\n",
       "      <th>headline</th>\n",
       "    </tr>\n",
       "  </thead>\n",
       "  <tbody>\n",
       "    <tr>\n",
       "      <th>0</th>\n",
       "      <td>Over 4 Million Americans Roll Up Sleeves For O...</td>\n",
       "    </tr>\n",
       "    <tr>\n",
       "      <th>1</th>\n",
       "      <td>American Airlines Flyer Charged, Banned For Li...</td>\n",
       "    </tr>\n",
       "    <tr>\n",
       "      <th>2</th>\n",
       "      <td>23 Of The Funniest Tweets About Cats And Dogs ...</td>\n",
       "    </tr>\n",
       "    <tr>\n",
       "      <th>3</th>\n",
       "      <td>The Funniest Tweets From Parents This Week (Se...</td>\n",
       "    </tr>\n",
       "    <tr>\n",
       "      <th>4</th>\n",
       "      <td>Woman Who Called Cops On Black Bird-Watcher Lo...</td>\n",
       "    </tr>\n",
       "  </tbody>\n",
       "</table>\n",
       "</div>"
      ],
      "text/plain": [
       "                                            headline\n",
       "0  Over 4 Million Americans Roll Up Sleeves For O...\n",
       "1  American Airlines Flyer Charged, Banned For Li...\n",
       "2  23 Of The Funniest Tweets About Cats And Dogs ...\n",
       "3  The Funniest Tweets From Parents This Week (Se...\n",
       "4  Woman Who Called Cops On Black Bird-Watcher Lo..."
      ]
     },
     "execution_count": 2,
     "metadata": {},
     "output_type": "execute_result"
    }
   ],
   "source": [
    "data = pd.read_csv('headlines.csv')\n",
    "data.head()"
   ]
  },
  {
   "cell_type": "code",
   "execution_count": 4,
   "id": "a5abf324-9588-448c-bdb1-41619a99eb54",
   "metadata": {},
   "outputs": [],
   "source": [
    "headlines = data['headline']\n",
    "\n",
    "sia = SentimentIntensityAnalyzer()\n",
    "\n",
    "def get_sentiment_label(sentiment_score):\n",
    "    if sentiment_score['compound'] > 0:\n",
    "        return 'positive'\n",
    "    elif sentiment_score['compound'] < 0:\n",
    "        return 'negative'\n",
    "    else:\n",
    "        return 'neutral'\n",
    "\n",
    "sentiment_labels = []\n",
    "for headline in headlines:\n",
    "    sentiment_score = sia.polarity_scores(str(headline))\n",
    "    sentiment_label = get_sentiment_label(sentiment_score)\n",
    "    sentiment_labels.append(sentiment_label)\n",
    "\n",
    "data['Sentiment_Label'] = sentiment_labels"
   ]
  },
  {
   "cell_type": "code",
   "execution_count": 5,
   "id": "25ced7e3-5114-4194-a9e6-0268f331e9d5",
   "metadata": {},
   "outputs": [
    {
     "data": {
      "text/plain": [
       "Sentiment_Label\n",
       "neutral     80966\n",
       "positive    69386\n",
       "negative    59175\n",
       "Name: count, dtype: int64"
      ]
     },
     "execution_count": 5,
     "metadata": {},
     "output_type": "execute_result"
    }
   ],
   "source": [
    "data[\"Sentiment_Label\"].value_counts()"
   ]
  },
  {
   "cell_type": "code",
   "execution_count": 6,
   "id": "6484c8ef-79a4-4178-96a2-f1129af513be",
   "metadata": {},
   "outputs": [],
   "source": [
    "data.to_csv(\"headlines_with_sentiment.csv\", index=False)"
   ]
  },
  {
   "cell_type": "code",
   "execution_count": null,
   "id": "f7d80ebf-1348-4a54-aaea-8026c8827bef",
   "metadata": {},
   "outputs": [],
   "source": []
  }
 ],
 "metadata": {
  "kernelspec": {
   "display_name": "Python 3 (ipykernel)",
   "language": "python",
   "name": "python3"
  },
  "language_info": {
   "codemirror_mode": {
    "name": "ipython",
    "version": 3
   },
   "file_extension": ".py",
   "mimetype": "text/x-python",
   "name": "python",
   "nbconvert_exporter": "python",
   "pygments_lexer": "ipython3",
   "version": "3.11.7"
  }
 },
 "nbformat": 4,
 "nbformat_minor": 5
}
