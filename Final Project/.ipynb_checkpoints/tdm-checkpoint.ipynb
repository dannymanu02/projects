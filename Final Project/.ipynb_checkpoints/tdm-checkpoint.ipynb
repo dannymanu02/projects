{
 "cells": [
  {
   "cell_type": "code",
   "execution_count": 4,
   "id": "15436731-7a6b-4f5c-82d8-a6f064aaa94f",
   "metadata": {},
   "outputs": [],
   "source": [
    "import pandas as pd\n",
    "from tensorflow.keras.preprocessing.text import Tokenizer\n",
    "from tensorflow.keras.preprocessing.sequence import pad_sequences"
   ]
  },
  {
   "cell_type": "code",
   "execution_count": 6,
   "id": "6752d859-7051-48d8-b816-c443305d3ff9",
   "metadata": {},
   "outputs": [
    {
     "data": {
      "text/html": [
       "<div>\n",
       "<style scoped>\n",
       "    .dataframe tbody tr th:only-of-type {\n",
       "        vertical-align: middle;\n",
       "    }\n",
       "\n",
       "    .dataframe tbody tr th {\n",
       "        vertical-align: top;\n",
       "    }\n",
       "\n",
       "    .dataframe thead th {\n",
       "        text-align: right;\n",
       "    }\n",
       "</style>\n",
       "<table border=\"1\" class=\"dataframe\">\n",
       "  <thead>\n",
       "    <tr style=\"text-align: right;\">\n",
       "      <th></th>\n",
       "      <th>Title</th>\n",
       "      <th>Num_Comments</th>\n",
       "      <th>Upvotes</th>\n",
       "      <th>Downvotes</th>\n",
       "      <th>Upvote_Ratio</th>\n",
       "      <th>Date_Posted</th>\n",
       "      <th>Flair</th>\n",
       "      <th>Post_Category</th>\n",
       "      <th>Top_Comment_Score</th>\n",
       "      <th>Sentiment_Label</th>\n",
       "    </tr>\n",
       "  </thead>\n",
       "  <tbody>\n",
       "    <tr>\n",
       "      <th>0</th>\n",
       "      <td>An anti-gay Hungarian politician has resigned ...</td>\n",
       "      <td>849</td>\n",
       "      <td>204547</td>\n",
       "      <td>0</td>\n",
       "      <td>0.93</td>\n",
       "      <td>01/12/20 18:15</td>\n",
       "      <td>NaN</td>\n",
       "      <td>Top</td>\n",
       "      <td>7555.0</td>\n",
       "      <td>negative</td>\n",
       "    </tr>\n",
       "    <tr>\n",
       "      <th>1</th>\n",
       "      <td>Trump Impeached for Abuse of Power</td>\n",
       "      <td>879</td>\n",
       "      <td>202909</td>\n",
       "      <td>0</td>\n",
       "      <td>0.88</td>\n",
       "      <td>19/12/19 1:23</td>\n",
       "      <td>Trump</td>\n",
       "      <td>Top</td>\n",
       "      <td>5150.0</td>\n",
       "      <td>negative</td>\n",
       "    </tr>\n",
       "    <tr>\n",
       "      <th>2</th>\n",
       "      <td>Vladimir Putin's black belt revoked by interna...</td>\n",
       "      <td>798</td>\n",
       "      <td>200149</td>\n",
       "      <td>0</td>\n",
       "      <td>0.89</td>\n",
       "      <td>28/02/22 20:45</td>\n",
       "      <td>NaN</td>\n",
       "      <td>Top</td>\n",
       "      <td>2907.0</td>\n",
       "      <td>neutral</td>\n",
       "    </tr>\n",
       "    <tr>\n",
       "      <th>3</th>\n",
       "      <td>Two weeks before his inauguration, Donald J. T...</td>\n",
       "      <td>914</td>\n",
       "      <td>189352</td>\n",
       "      <td>0</td>\n",
       "      <td>0.84</td>\n",
       "      <td>19/07/18 2:06</td>\n",
       "      <td>NaN</td>\n",
       "      <td>Top</td>\n",
       "      <td>249.0</td>\n",
       "      <td>positive</td>\n",
       "    </tr>\n",
       "    <tr>\n",
       "      <th>4</th>\n",
       "      <td>Queen Elizabeth II has died, Buckingham Palace...</td>\n",
       "      <td>905</td>\n",
       "      <td>189025</td>\n",
       "      <td>0</td>\n",
       "      <td>0.79</td>\n",
       "      <td>08/09/22 17:32</td>\n",
       "      <td>NaN</td>\n",
       "      <td>Top</td>\n",
       "      <td>1.0</td>\n",
       "      <td>negative</td>\n",
       "    </tr>\n",
       "  </tbody>\n",
       "</table>\n",
       "</div>"
      ],
      "text/plain": [
       "                                               Title  Num_Comments  Upvotes  \\\n",
       "0  An anti-gay Hungarian politician has resigned ...           849   204547   \n",
       "1                 Trump Impeached for Abuse of Power           879   202909   \n",
       "2  Vladimir Putin's black belt revoked by interna...           798   200149   \n",
       "3  Two weeks before his inauguration, Donald J. T...           914   189352   \n",
       "4  Queen Elizabeth II has died, Buckingham Palace...           905   189025   \n",
       "\n",
       "   Downvotes  Upvote_Ratio     Date_Posted  Flair Post_Category  \\\n",
       "0          0          0.93  01/12/20 18:15    NaN           Top   \n",
       "1          0          0.88   19/12/19 1:23  Trump           Top   \n",
       "2          0          0.89  28/02/22 20:45    NaN           Top   \n",
       "3          0          0.84   19/07/18 2:06    NaN           Top   \n",
       "4          0          0.79  08/09/22 17:32    NaN           Top   \n",
       "\n",
       "   Top_Comment_Score Sentiment_Label  \n",
       "0             7555.0        negative  \n",
       "1             5150.0        negative  \n",
       "2             2907.0         neutral  \n",
       "3              249.0        positive  \n",
       "4                1.0        negative  "
      ]
     },
     "execution_count": 6,
     "metadata": {},
     "output_type": "execute_result"
    }
   ],
   "source": [
    "data = pd.read_csv(\"reddit_worldnews_sentiments_clean.csv\")\n",
    "data.head()"
   ]
  },
  {
   "cell_type": "code",
   "execution_count": 8,
   "id": "9ec9b198-b36a-4c72-9658-dfb314da9047",
   "metadata": {},
   "outputs": [
    {
     "data": {
      "text/plain": [
       "0    An anti-gay Hungarian politician has resigned ...\n",
       "1                   Trump Impeached for Abuse of Power\n",
       "2    Vladimir Putin's black belt revoked by interna...\n",
       "3    Two weeks before his inauguration, Donald J. T...\n",
       "4    Queen Elizabeth II has died, Buckingham Palace...\n",
       "Name: Title, dtype: object"
      ]
     },
     "execution_count": 8,
     "metadata": {},
     "output_type": "execute_result"
    }
   ],
   "source": [
    "title = data[\"Title\"]\n",
    "title.head()"
   ]
  },
  {
   "cell_type": "code",
   "execution_count": 9,
   "id": "4ad92bc1-788a-410c-8816-154da12729cf",
   "metadata": {},
   "outputs": [],
   "source": [
    "title = title.str.lower().replace('[^\\w\\s]', '', regex=True)"
   ]
  },
  {
   "cell_type": "code",
   "execution_count": 10,
   "id": "6a6944f9-18c4-439f-924a-77c1b97a38f5",
   "metadata": {},
   "outputs": [
    {
     "name": "stdout",
     "output_type": "stream",
     "text": [
      "      term_0  term_1  term_2  term_3  term_4  term_5  term_6  term_7  term_8  \\\n",
      "0         46    2871    1340     446      17    1849      20     152    1032   \n",
      "1         18    1850       7     672       3     447       0       0       0   \n",
      "2        205     393     506    2876    2877      16     178    2878     581   \n",
      "3        206     832     126      48    1851     100    2879      18      36   \n",
      "4        673    1033    1034      17     142    1341    1035     289       0   \n",
      "...      ...     ...     ...     ...     ...     ...     ...     ...     ...   \n",
      "1800    2786     576    2870    1473      91     751      20    2535    6454   \n",
      "1801     669    1318     144    6456    6457       5    6458     245       2   \n",
      "1802    6462    6463    6464    6465    6466    6467     199     235       0   \n",
      "1803    6468      16      38     386    2670     276      14    1084      28   \n",
      "1804     182     164     336      34    6470    6471      52       2     436   \n",
      "\n",
      "      term_9  ...  term_49  term_50  term_51  term_52  term_53  term_54  \\\n",
      "0         16  ...        0        0        0        0        0        0   \n",
      "1          0  ...        0        0        0        0        0        0   \n",
      "2          0  ...        0        0        0        0        0        0   \n",
      "3       1852  ...        0        0        0        0        0        0   \n",
      "4          0  ...        0        0        0        0        0        0   \n",
      "...      ...  ...      ...      ...      ...      ...      ...      ...   \n",
      "1800       2  ...        0        0        0        0        0        0   \n",
      "1801    6459  ...        0        0        0        0        0        0   \n",
      "1802       0  ...        0        0        0        0        0        0   \n",
      "1803    6469  ...        0        0        0        0        0        0   \n",
      "1804       7  ...        0        0        0        0        0        0   \n",
      "\n",
      "      term_55  term_56  term_57  term_58  \n",
      "0           0        0        0        0  \n",
      "1           0        0        0        0  \n",
      "2           0        0        0        0  \n",
      "3           0        0        0        0  \n",
      "4           0        0        0        0  \n",
      "...       ...      ...      ...      ...  \n",
      "1800        0        0        0        0  \n",
      "1801        0        0        0        0  \n",
      "1802        0        0        0        0  \n",
      "1803        0        0        0        0  \n",
      "1804        0        0        0        0  \n",
      "\n",
      "[1805 rows x 59 columns]\n"
     ]
    }
   ],
   "source": [
    "tokenizer = Tokenizer()\n",
    "\n",
    "tokenizer.fit_on_texts(title)\n",
    "\n",
    "sequences = tokenizer.texts_to_sequences(title)\n",
    "\n",
    "vocab_size = len(tokenizer.word_index) + 1\n",
    "\n",
    "maxlen = max(len(seq) for seq in sequences)\n",
    "term_doc_matrix = pad_sequences(sequences, padding='post', maxlen=maxlen)\n",
    "\n",
    "tdm_df = pd.DataFrame(term_doc_matrix, columns=[f\"term_{i}\" for i in range(maxlen)])\n",
    "\n",
    "print(tdm_df)"
   ]
  },
  {
   "cell_type": "code",
   "execution_count": null,
   "id": "848ccf1e-d02a-4673-b7a7-c6775172e382",
   "metadata": {},
   "outputs": [],
   "source": []
  }
 ],
 "metadata": {
  "kernelspec": {
   "display_name": "Python 3 (ipykernel)",
   "language": "python",
   "name": "python3"
  },
  "language_info": {
   "codemirror_mode": {
    "name": "ipython",
    "version": 3
   },
   "file_extension": ".py",
   "mimetype": "text/x-python",
   "name": "python",
   "nbconvert_exporter": "python",
   "pygments_lexer": "ipython3",
   "version": "3.11.7"
  }
 },
 "nbformat": 4,
 "nbformat_minor": 5
}
