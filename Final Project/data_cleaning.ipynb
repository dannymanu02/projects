{
 "cells": [
  {
   "cell_type": "code",
   "execution_count": 1,
   "id": "c44f83a5-0191-44e1-aed3-cce9c8d02a1b",
   "metadata": {},
   "outputs": [],
   "source": [
    "import pandas as pd"
   ]
  },
  {
   "cell_type": "code",
   "execution_count": 5,
   "id": "8372863a-a7c6-4626-99f2-5453a41727db",
   "metadata": {},
   "outputs": [
    {
     "data": {
      "text/html": [
       "<div>\n",
       "<style scoped>\n",
       "    .dataframe tbody tr th:only-of-type {\n",
       "        vertical-align: middle;\n",
       "    }\n",
       "\n",
       "    .dataframe tbody tr th {\n",
       "        vertical-align: top;\n",
       "    }\n",
       "\n",
       "    .dataframe thead th {\n",
       "        text-align: right;\n",
       "    }\n",
       "</style>\n",
       "<table border=\"1\" class=\"dataframe\">\n",
       "  <thead>\n",
       "    <tr style=\"text-align: right;\">\n",
       "      <th></th>\n",
       "      <th>Title</th>\n",
       "      <th>Num_Comments</th>\n",
       "      <th>Upvotes</th>\n",
       "      <th>Downvotes</th>\n",
       "      <th>Upvote_Ratio</th>\n",
       "      <th>Date_Posted</th>\n",
       "      <th>Flair</th>\n",
       "      <th>Post_Category</th>\n",
       "      <th>Top_Comment_Score</th>\n",
       "      <th>Sentiment_Label</th>\n",
       "    </tr>\n",
       "  </thead>\n",
       "  <tbody>\n",
       "    <tr>\n",
       "      <th>0</th>\n",
       "      <td>An anti-gay Hungarian politician has resigned ...</td>\n",
       "      <td>849</td>\n",
       "      <td>204547</td>\n",
       "      <td>0</td>\n",
       "      <td>0.93</td>\n",
       "      <td>01/12/20 18:15</td>\n",
       "      <td>NaN</td>\n",
       "      <td>Top</td>\n",
       "      <td>7555.0</td>\n",
       "      <td>negative</td>\n",
       "    </tr>\n",
       "    <tr>\n",
       "      <th>1</th>\n",
       "      <td>Trump Impeached for Abuse of Power</td>\n",
       "      <td>879</td>\n",
       "      <td>202909</td>\n",
       "      <td>0</td>\n",
       "      <td>0.88</td>\n",
       "      <td>19/12/19 1:23</td>\n",
       "      <td>Trump</td>\n",
       "      <td>Top</td>\n",
       "      <td>5150.0</td>\n",
       "      <td>negative</td>\n",
       "    </tr>\n",
       "    <tr>\n",
       "      <th>2</th>\n",
       "      <td>Vladimir Putin's black belt revoked by interna...</td>\n",
       "      <td>798</td>\n",
       "      <td>200149</td>\n",
       "      <td>0</td>\n",
       "      <td>0.89</td>\n",
       "      <td>28/02/22 20:45</td>\n",
       "      <td>NaN</td>\n",
       "      <td>Top</td>\n",
       "      <td>2907.0</td>\n",
       "      <td>neutral</td>\n",
       "    </tr>\n",
       "    <tr>\n",
       "      <th>3</th>\n",
       "      <td>Two weeks before his inauguration, Donald J. T...</td>\n",
       "      <td>914</td>\n",
       "      <td>189352</td>\n",
       "      <td>0</td>\n",
       "      <td>0.84</td>\n",
       "      <td>19/07/18 2:06</td>\n",
       "      <td>NaN</td>\n",
       "      <td>Top</td>\n",
       "      <td>249.0</td>\n",
       "      <td>positive</td>\n",
       "    </tr>\n",
       "    <tr>\n",
       "      <th>4</th>\n",
       "      <td>Queen Elizabeth II has died, Buckingham Palace...</td>\n",
       "      <td>905</td>\n",
       "      <td>189025</td>\n",
       "      <td>0</td>\n",
       "      <td>0.79</td>\n",
       "      <td>08/09/22 17:32</td>\n",
       "      <td>NaN</td>\n",
       "      <td>Top</td>\n",
       "      <td>1.0</td>\n",
       "      <td>negative</td>\n",
       "    </tr>\n",
       "  </tbody>\n",
       "</table>\n",
       "</div>"
      ],
      "text/plain": [
       "                                               Title  Num_Comments  Upvotes  \\\n",
       "0  An anti-gay Hungarian politician has resigned ...           849   204547   \n",
       "1                 Trump Impeached for Abuse of Power           879   202909   \n",
       "2  Vladimir Putin's black belt revoked by interna...           798   200149   \n",
       "3  Two weeks before his inauguration, Donald J. T...           914   189352   \n",
       "4  Queen Elizabeth II has died, Buckingham Palace...           905   189025   \n",
       "\n",
       "   Downvotes  Upvote_Ratio     Date_Posted  Flair Post_Category  \\\n",
       "0          0          0.93  01/12/20 18:15    NaN           Top   \n",
       "1          0          0.88   19/12/19 1:23  Trump           Top   \n",
       "2          0          0.89  28/02/22 20:45    NaN           Top   \n",
       "3          0          0.84   19/07/18 2:06    NaN           Top   \n",
       "4          0          0.79  08/09/22 17:32    NaN           Top   \n",
       "\n",
       "   Top_Comment_Score Sentiment_Label  \n",
       "0             7555.0        negative  \n",
       "1             5150.0        negative  \n",
       "2             2907.0         neutral  \n",
       "3              249.0        positive  \n",
       "4                1.0        negative  "
      ]
     },
     "execution_count": 5,
     "metadata": {},
     "output_type": "execute_result"
    }
   ],
   "source": [
    "data = pd.read_csv(\"reddit_worldnews_sentiments.csv\")\n",
    "data.head()"
   ]
  },
  {
   "cell_type": "code",
   "execution_count": 6,
   "id": "cae5774c-8638-4ea5-9aa6-b8ac4c9fa8bb",
   "metadata": {},
   "outputs": [],
   "source": [
    "data_no_duplicates = data.drop_duplicates(subset=['Title'])"
   ]
  },
  {
   "cell_type": "code",
   "execution_count": 7,
   "id": "b96aa7b5-ac77-4e36-88eb-7426ae81e255",
   "metadata": {},
   "outputs": [
    {
     "data": {
      "text/plain": [
       "(1805, 10)"
      ]
     },
     "execution_count": 7,
     "metadata": {},
     "output_type": "execute_result"
    }
   ],
   "source": [
    "data_no_duplicates.shape"
   ]
  },
  {
   "cell_type": "code",
   "execution_count": 8,
   "id": "91919ba9-2974-4ee7-9cf3-7073408aa981",
   "metadata": {},
   "outputs": [],
   "source": [
    "data_no_duplicates.to_csv(\"reddit_worldnews_sentiments_clean.csv\")"
   ]
  },
  {
   "cell_type": "code",
   "execution_count": null,
   "id": "4b8335f6-3b74-4736-b19c-6e800ac2b2a4",
   "metadata": {},
   "outputs": [],
   "source": []
  }
 ],
 "metadata": {
  "kernelspec": {
   "display_name": "Python 3 (ipykernel)",
   "language": "python",
   "name": "python3"
  },
  "language_info": {
   "codemirror_mode": {
    "name": "ipython",
    "version": 3
   },
   "file_extension": ".py",
   "mimetype": "text/x-python",
   "name": "python",
   "nbconvert_exporter": "python",
   "pygments_lexer": "ipython3",
   "version": "3.11.7"
  }
 },
 "nbformat": 4,
 "nbformat_minor": 5
}
